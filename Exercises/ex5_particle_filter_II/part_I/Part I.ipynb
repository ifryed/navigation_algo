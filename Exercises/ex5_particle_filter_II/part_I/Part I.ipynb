{
 "cells": [
  {
   "cell_type": "markdown",
   "metadata": {},
   "source": [
    "# Particle Filter II"
   ]
  },
  {
   "cell_type": "code",
   "execution_count": 1,
   "metadata": {},
   "outputs": [],
   "source": [
    "import numpy as np"
   ]
  },
  {
   "cell_type": "markdown",
   "metadata": {},
   "source": [
    "# Question 1"
   ]
  },
  {
   "cell_type": "code",
   "execution_count": 2,
   "metadata": {},
   "outputs": [],
   "source": [
    "def printState(state):\n",
    "    x,y,theta,omega = state.flatten()\n",
    "    print('X:{:.3f}\\nY:{:.3f}\\nTheta:{:.3f}*PI\\nOmega:{:.3f}'.format(x,y,theta/np.pi,omega))"
   ]
  },
  {
   "cell_type": "code",
   "execution_count": 3,
   "metadata": {},
   "outputs": [
    {
     "name": "stdout",
     "output_type": "stream",
     "text": [
      "X:3.000\n",
      "Y:5.000\n",
      "Theta:0.700*PI\n",
      "Omega:0.200\n"
     ]
    }
   ],
   "source": [
    "state_init = np.array([\n",
    "    [3],\n",
    "    [5],\n",
    "    [0.7*np.pi],\n",
    "    [0.2]\n",
    "])\n",
    "\n",
    "printState(state_init)"
   ]
  },
  {
   "cell_type": "code",
   "execution_count": 4,
   "metadata": {},
   "outputs": [],
   "source": [
    "def predict(state,dt,v=10):\n",
    "    x,y,theta,omega = state.flatten()\n",
    "    x_p = x+(v/(omega+np.finfo('float').eps))*(np.sin(theta+dt*omega) - np.sin(theta))\n",
    "    y_p = y+(v/(omega+np.finfo('float').eps))*(np.cos(theta) - np.cos(theta+dt*omega))\n",
    "    theta_p = theta+dt*omega\n",
    "    \n",
    "    state_p = np.array([\n",
    "        [x_p],\n",
    "        [y_p],\n",
    "        [theta_p],\n",
    "        [omega]\n",
    "    ])\n",
    "    return state_p"
   ]
  },
  {
   "cell_type": "markdown",
   "metadata": {},
   "source": [
    "## Answer 1.a"
   ]
  },
  {
   "cell_type": "code",
   "execution_count": 6,
   "metadata": {},
   "outputs": [
    {
     "name": "stdout",
     "output_type": "stream",
     "text": [
      "Init State:\n",
      "X:3.000\n",
      "Y:5.000\n",
      "Theta:0.700*PI\n",
      "Omega:0.200\n",
      "\n",
      "Predicted State:\n",
      "X:1.792\n",
      "Y:6.594\n",
      "Theta:0.713*PI\n",
      "Omega:0.200\n"
     ]
    }
   ],
   "source": [
    "print('Init State:')\n",
    "printState(state_init)\n",
    "print('\\nPredicted State:')\n",
    "printState(predict(state_init,dt=0.2))"
   ]
  },
  {
   "cell_type": "markdown",
   "metadata": {},
   "source": [
    "## Answer 1.b"
   ]
  },
  {
   "cell_type": "code",
   "execution_count": 7,
   "metadata": {},
   "outputs": [
    {
     "name": "stdout",
     "output_type": "stream",
     "text": [
      "Init State:\n",
      "X:3.000\n",
      "Y:5.000\n",
      "Theta:0.700*PI\n",
      "Omega:0.000\n",
      "\n",
      "Predicted State:\n",
      "X:3.000\n",
      "Y:5.000\n",
      "Theta:0.700*PI\n",
      "Omega:0.000\n"
     ]
    }
   ],
   "source": [
    "state_init_2 = np.array([\n",
    "    [3],\n",
    "    [5],\n",
    "    [0.7*np.pi],\n",
    "    [0] # Omega = 0, no angle speed\n",
    "])\n",
    "\n",
    "print('Init State:')\n",
    "printState(state_init_2)\n",
    "print('\\nPredicted State:')\n",
    "printState(predict(state_init_2,dt=0.2))"
   ]
  },
  {
   "cell_type": "markdown",
   "metadata": {},
   "source": [
    "# Question 2"
   ]
  },
  {
   "cell_type": "code",
   "execution_count": 10,
   "metadata": {},
   "outputs": [],
   "source": [
    "state = np.array([10,21,30]).reshape(-1,1)\n",
    "obs1 = np.array([0,0]).reshape(-1,1)\n",
    "obs2 = np.array([18,32]).reshape(-1,1)"
   ]
  },
  {
   "cell_type": "code",
   "execution_count": 11,
   "metadata": {},
   "outputs": [],
   "source": [
    "def printObs(obs):\n",
    "    print('X:{:.3f}\\nY:{:.3f}\\n'.format(*obs.flatten()))\n",
    "    \n",
    "def getGlobalCoordinates(state,obs):\n",
    "    x,y,theta = state.flatten()\n",
    "    ox,oy = obs.flatten()\n",
    "    \n",
    "    theta_r = np.radians(-theta)\n",
    "    rot_mat = np.array([\n",
    "        [np.cos(theta_r), -np.sin(theta_r),x],\n",
    "        [np.sin(theta_r), np.cos(theta_r),y],\n",
    "        [0,0,1]\n",
    "    ])\n",
    "    obs_v = np.array([[ox],[oy],[1]])\n",
    "    gx,gy,_ = rot_mat.dot(obs_v)\n",
    "    return np.array([gx,gy])"
   ]
  },
  {
   "cell_type": "markdown",
   "metadata": {},
   "source": [
    "# Answer 2.a"
   ]
  },
  {
   "cell_type": "code",
   "execution_count": 12,
   "metadata": {},
   "outputs": [
    {
     "name": "stdout",
     "output_type": "stream",
     "text": [
      "Landmark 1\n",
      "X:10.000\n",
      "Y:21.000\n",
      "\n",
      "Landmark 2\n",
      "X:41.588\n",
      "Y:39.713\n",
      "\n"
     ]
    }
   ],
   "source": [
    "print(\"Landmark 1\")\n",
    "printObs(getGlobalCoordinates(state,obs1))\n",
    "print(\"Landmark 2\")\n",
    "printObs(getGlobalCoordinates(state,obs2))"
   ]
  },
  {
   "cell_type": "code",
   "execution_count": 13,
   "metadata": {},
   "outputs": [],
   "source": [
    "def projectToRobot(state,glob_obs):\n",
    "    x,y,theta = state.flatten()\n",
    "    ox,oy = glob_obs.flatten()\n",
    "    \n",
    "    theta_r = np.radians(theta)\n",
    "    rot_mat = np.array([\n",
    "        [np.cos(theta_r), -np.sin(theta_r),x],\n",
    "        [np.sin(theta_r), np.cos(theta_r),y],\n",
    "        [0,0,1]\n",
    "    ])\n",
    "    rot_mat = np.linalg.inv(rot_mat)\n",
    "    obs_v = np.array([[ox],[oy],[1]])\n",
    "    gx,gy,_ = rot_mat.dot(obs_v)\n",
    "    \n",
    "    return np.array([gx,gy])"
   ]
  },
  {
   "cell_type": "markdown",
   "metadata": {},
   "source": [
    "# Answer 2.b"
   ]
  },
  {
   "cell_type": "code",
   "execution_count": 14,
   "metadata": {},
   "outputs": [
    {
     "name": "stdout",
     "output_type": "stream",
     "text": [
      "X:4.026\n",
      "Y:-15.026\n",
      "\n"
     ]
    }
   ],
   "source": [
    "landmark_pos = np.array([[21,10]]).T\n",
    "printObs(projectToRobot(state,landmark_pos))"
   ]
  },
  {
   "cell_type": "markdown",
   "metadata": {},
   "source": [
    "# Answer 2.c"
   ]
  },
  {
   "cell_type": "code",
   "execution_count": 15,
   "metadata": {},
   "outputs": [
    {
     "name": "stdout",
     "output_type": "stream",
     "text": [
      "Landmark 1\n",
      "X:10.000\n",
      "Y:21.000\n",
      "\n",
      "Landmark 2\n",
      "X:28.000\n",
      "Y:53.000\n",
      "\n"
     ]
    }
   ],
   "source": [
    "state = np.array([10,21,0]).reshape(-1,1)\n",
    "print(\"Landmark 1\")\n",
    "printObs(getGlobalCoordinates(state,obs1))\n",
    "print(\"Landmark 2\")\n",
    "printObs(getGlobalCoordinates(state,obs2))"
   ]
  }
 ],
 "metadata": {
  "kernelspec": {
   "display_name": "Python 3",
   "language": "python",
   "name": "python3"
  },
  "language_info": {
   "codemirror_mode": {
    "name": "ipython",
    "version": 3
   },
   "file_extension": ".py",
   "mimetype": "text/x-python",
   "name": "python",
   "nbconvert_exporter": "python",
   "pygments_lexer": "ipython3",
   "version": "3.7.5"
  }
 },
 "nbformat": 4,
 "nbformat_minor": 4
}
